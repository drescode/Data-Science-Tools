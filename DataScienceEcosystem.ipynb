{
 "cells": [
  {
   "cell_type": "markdown",
   "id": "ae77cae1-404e-49e0-8d30-e1950bcfb84b",
   "metadata": {},
   "source": [
    "# Data Science tools and Ecosystems"
   ]
  },
  {
   "cell_type": "markdown",
   "id": "a55214e0-ace9-495b-8617-1eb00e977289",
   "metadata": {},
   "source": [
    "This notebook contains a summary of Data Science Tools and Ecosystems."
   ]
  },
  {
   "cell_type": "markdown",
   "id": "a3ffd514-6ee6-457c-a455-a189a67650fa",
   "metadata": {},
   "source": [
    "Objectives:\n",
    "* List popular Data Science languages\n",
    "* Some common used libraries by Data Scientists\n",
    "* Data Science tools\n",
    "* Arithmetic Expression in python"
   ]
  },
  {
   "cell_type": "markdown",
   "id": "05bb8fb9-49b6-469c-a05d-c44fffd54b19",
   "metadata": {},
   "source": [
    "Some of the popular languages that Data Scientists use are:\n",
    "1. Python\n",
    "2. R\n",
    "3. SQL"
   ]
  },
  {
   "cell_type": "markdown",
   "id": "d0f0c394-54cb-42d8-b072-fd640d1586dd",
   "metadata": {},
   "source": [
    "Some of the commonly used libraries used by Data Scientists include:\n",
    "1. Matplotlib\n",
    "2. pandas\n",
    "3. numpy\n",
    "4. scikit learn"
   ]
  },
  {
   "cell_type": "markdown",
   "id": "0a035d22-a296-4cb5-8f2a-d257996bb680",
   "metadata": {
    "tags": []
   },
   "source": [
    "|Data Science Tools|\n",
    "|------------------|\n",
    "|Jupyter lab|\n",
    "|RStudio|\n",
    "|Apache Zeppelin|"
   ]
  },
  {
   "cell_type": "markdown",
   "id": "21784dd0-47a2-4e5d-9a98-ad21ddb71228",
   "metadata": {},
   "source": [
    "### Below are a few examples of evaluating arithmetic expressions in Python"
   ]
  },
  {
   "cell_type": "code",
   "execution_count": 2,
   "id": "3a8c3484-a50b-4186-9ad9-3d570e1e45aa",
   "metadata": {
    "tags": []
   },
   "outputs": [
    {
     "data": {
      "text/plain": [
       "17"
      ]
     },
     "execution_count": 2,
     "metadata": {},
     "output_type": "execute_result"
    }
   ],
   "source": [
    "#excercise 8 This a simple arithmetic expression to mutiply then add integers\n",
    "(3*4)+5"
   ]
  },
  {
   "cell_type": "code",
   "execution_count": 4,
   "id": "fe58dcaa-4971-4098-8308-fd8f92c1b4de",
   "metadata": {
    "tags": []
   },
   "outputs": [
    {
     "data": {
      "text/plain": [
       "3.3333333333333335"
      ]
     },
     "execution_count": 4,
     "metadata": {},
     "output_type": "execute_result"
    }
   ],
   "source": [
    "#converts minutes into hours; This will convert 200 minutes to hours by diving by 60\n",
    "200 / 60"
   ]
  },
  {
   "cell_type": "code",
   "execution_count": null,
   "id": "7a791ef1-7f29-46bf-9bbe-9202c0786270",
   "metadata": {},
   "outputs": [],
   "source": []
  },
  {
   "cell_type": "code",
   "execution_count": null,
   "id": "b0a5beea-2519-4840-b6b8-c05e25c14f12",
   "metadata": {},
   "outputs": [],
   "source": []
  },
  {
   "cell_type": "code",
   "execution_count": null,
   "id": "2e043523-f882-453b-afc4-b5671654c8b3",
   "metadata": {},
   "outputs": [],
   "source": []
  },
  {
   "cell_type": "code",
   "execution_count": null,
   "id": "00649a53-ebdc-4b7a-a790-b74de5c34057",
   "metadata": {},
   "outputs": [],
   "source": []
  }
 ],
 "metadata": {
  "kernelspec": {
   "display_name": "Python 3 (ipykernel)",
   "language": "python",
   "name": "python3"
  },
  "language_info": {
   "codemirror_mode": {
    "name": "ipython",
    "version": 3
   },
   "file_extension": ".py",
   "mimetype": "text/x-python",
   "name": "python",
   "nbconvert_exporter": "python",
   "pygments_lexer": "ipython3",
   "version": "3.8.16"
  }
 },
 "nbformat": 4,
 "nbformat_minor": 5
}
